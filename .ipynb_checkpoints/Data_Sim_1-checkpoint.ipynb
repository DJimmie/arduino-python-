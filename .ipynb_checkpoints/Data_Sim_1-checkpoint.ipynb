{
 "cells": [
  {
   "cell_type": "code",
   "execution_count": 69,
   "metadata": {
    "scrolled": false
   },
   "outputs": [
    {
     "name": "stdout",
     "output_type": "stream",
     "text": [
      "28 0.968583161129\n"
     ]
    },
    {
     "data": {
      "image/png": "[encoded data removed]",
      "text/plain": [
       "<matplotlib.figure.Figure at 0xaa73e10>"
      ]
     },
     "metadata": {},
     "output_type": "display_data"
    },
    {
     "name": "stdout",
     "output_type": "stream",
     "text": [
      "stop:  2018-10-20 21:08:20.510628\n"
     ]
    }
   ],
   "source": [
    "# GENERATES A REAL-TIME STREAM OF DATA FOR TESTING THE MATPLOTLIB ANIMATION. \n",
    "# THIS STREAM SIMULATES THE DATA COMING FROM THE ARDUINO. \n",
    "\n",
    "# %matplotlib notebook\n",
    "import numpy as np\n",
    "import pandas as pd\n",
    "import matplotlib.pyplot as plt\n",
    "import matplotlib.animation as animation\n",
    "from matplotlib import style\n",
    "import os\n",
    "import sys\n",
    "import time\n",
    "import datetime\n",
    "import math\n",
    "import plot_animation\n",
    "import subprocess\n",
    "from IPython.display import clear_output\n",
    "\n",
    "# initialize values\n",
    "x=0\n",
    "xvalues,yvalues=0,0\n",
    "t=0\n",
    "\n",
    "# set the starttime, delta. The stop time is the now+delta\n",
    "dt=datetime.datetime.now()\n",
    "my_delta=30\n",
    "delta=datetime.timedelta(seconds=my_delta)\n",
    "stoptime=dt+delta\n",
    "\n",
    "# set the current working directory for the data file\n",
    "path=os.getcwd()\n",
    "file='real_time_data.txt'\n",
    "filename=path+'\\\\real_time_data.txt'\n",
    "\n",
    "# genetate data for the specified delta time.\n",
    "print('start: ',dt)\n",
    "\n",
    "# plot_animation.the_animator()\n",
    "# os.system(\"py plot_animation.py\")\n",
    "# subprocess.Popen(\"py plot_animation.py\",shell=True)\n",
    "\n",
    "\n",
    "while datetime.datetime.now()<=stoptime:\n",
    "    \n",
    "    clear_output(wait=False)\n",
    "    noise=(np.random.random(1)*2-1)*1\n",
    "    xvalues=x\n",
    "#     yvalues=(5*noise)\n",
    "    t+=0.01\n",
    "    yvalues=np.asarray(np.sin(2*t*np.pi))*np.ones(1)\n",
    "    \n",
    "    file_object=open(filename, 'a')\n",
    "    file_object.write(str(xvalues)+','+str(yvalues[0])+'\\n')\n",
    "    file_object.close()\n",
    "\n",
    "    print(xvalues,yvalues[0])\n",
    "    plot_animation.the_animator(my_delta)\n",
    "#     %run plot_animation.py\n",
    "    time.sleep(.5)\n",
    "    x=x+1\n",
    "    \n",
    "\n",
    "print('stop: ',stoptime)\n",
    "\n",
    "xstr=str(xvalues)\n",
    "ystr=str(yvalues)\n",
    "\n",
    "# clearing the values \n",
    "del xvalues\n",
    "del yvalues\n",
    "del xstr\n",
    "del ystr\n",
    "\n",
    "# clearing the file for the next run\n",
    "open(filename, 'w').close()\n",
    "\n",
    "   "
   ]
  },
  {
   "cell_type": "code",
   "execution_count": 70,
   "metadata": {},
   "outputs": [
    {
     "data": {
      "text/plain": [
       "3.141592653589793"
      ]
     },
     "execution_count": 70,
     "metadata": {},
     "output_type": "execute_result"
    }
   ],
   "source": [
    "np.pi"
   ]
  },
  {
   "cell_type": "code",
   "execution_count": 71,
   "metadata": {},
   "outputs": [
    {
     "data": {
      "text/plain": [
       "array([ 1.46937504])"
      ]
     },
     "execution_count": 71,
     "metadata": {},
     "output_type": "execute_result"
    }
   ],
   "source": [
    "5*(np.random.random(1)*2-1)*1"
   ]
  },
  {
   "cell_type": "code",
   "execution_count": 72,
   "metadata": {},
   "outputs": [],
   "source": [
    "y=np.asarray(np.sin(2*t*np.pi)).reshape(1,1)[0,:]"
   ]
  },
  {
   "cell_type": "code",
   "execution_count": 73,
   "metadata": {},
   "outputs": [
    {
     "data": {
      "text/plain": [
       "array([ 0.96858316])"
      ]
     },
     "execution_count": 73,
     "metadata": {},
     "output_type": "execute_result"
    }
   ],
   "source": [
    "y"
   ]
  },
  {
   "cell_type": "code",
   "execution_count": 74,
   "metadata": {},
   "outputs": [
    {
     "data": {
      "text/plain": [
       "0.96858316112863097"
      ]
     },
     "execution_count": 74,
     "metadata": {},
     "output_type": "execute_result"
    }
   ],
   "source": [
    "y[0]"
   ]
  },
  {
   "cell_type": "code",
   "execution_count": 75,
   "metadata": {
    "collapsed": true
   },
   "outputs": [],
   "source": [
    "y=np.asarray(np.sin(2*t*np.pi))*np.ones(1)"
   ]
  },
  {
   "cell_type": "code",
   "execution_count": 76,
   "metadata": {},
   "outputs": [
    {
     "data": {
      "text/plain": [
       "array([ 0.96858316])"
      ]
     },
     "execution_count": 76,
     "metadata": {},
     "output_type": "execute_result"
    }
   ],
   "source": [
    "y"
   ]
  },
  {
   "cell_type": "code",
   "execution_count": null,
   "metadata": {
    "collapsed": true
   },
   "outputs": [],
   "source": []
  }
 ],
 "metadata": {
  "kernelspec": {
   "display_name": "Python 3",
   "language": "python",
   "name": "python3"
  },
  "language_info": {
   "codemirror_mode": {
    "name": "ipython",
    "version": 3
   },
   "file_extension": ".py",
   "mimetype": "text/x-python",
   "name": "python",
   "nbconvert_exporter": "python",
   "pygments_lexer": "ipython3",
   "version": "3.6.3"
  }
 },
 "nbformat": 4,
 "nbformat_minor": 2
}
